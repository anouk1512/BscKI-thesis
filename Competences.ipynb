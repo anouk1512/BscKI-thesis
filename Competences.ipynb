{
 "cells": [
  {
   "cell_type": "code",
   "execution_count": 9,
   "metadata": {},
   "outputs": [],
   "source": [
    "\"\"\"\n",
    "Import statements\n",
    "\"\"\"\n",
    "\n",
    "from openpyxl import load_workbook\n",
    "from ipynb.fs.full.Data_handling import *\n",
    "from ipynb.fs.full.Similarity import *"
   ]
  },
  {
   "cell_type": "code",
   "execution_count": 6,
   "metadata": {},
   "outputs": [],
   "source": [
    "MAPPING = '/home/anoukmul/Documents/Thesis/CFDS_Knowledge_mapping.xlsx'\n",
    "\n",
    "old_competences = ['DSDA01', 'DSDA02','DSDA03', 'DSDA04', 'DSDA05', 'DSDA06', 'DSENG01', 'DSENG02',\n",
    "    'DSENG03', 'DSENG04', 'DSENG05', 'DSENG06', 'DSDM01', 'DSDM02', 'DSDM03', 'DSDM04', 'DSDM05',\n",
    "    'DSDM06', 'DSRMP01', 'DSRMP02', 'DSRMP03', 'DSRMP04', 'DSRMP05', 'DSRMP06', 'DSBA01', 'DSBA02', 'DSBA03',\n",
    "    'DSBA04', 'DSBA05', 'DSBA06']\n",
    "\n",
    "\"\"\"\n",
    "This function loads the updates competences but only the 30 from version 3\n",
    "\"\"\"\n",
    "def new_mapping_old_comp(path): \n",
    "    wb = load_workbook(path)\n",
    "    ws = wb[wb.sheetnames[0]]\n",
    "    competences = {}\n",
    "    comp_name = ws.__getitem__(\"A\")\n",
    "    comp_cfds = ws.__getitem__(\"B\")\n",
    "    comp_ka = ws.__getitem__(\"C\")\n",
    "    comp_ku = ws.__getitem__(\"D\")\n",
    "    \n",
    "    for competence, cfds, ka, ku in zip(comp_name[2:],comp_cfds[2:], comp_ka[2:], comp_ku[2:]):\n",
    "        clean_cfds = norm_sent(str(cfds.value))\n",
    "        if competence.value in old_competences:\n",
    "            if ka.value: \n",
    "                clean_ka = norm_sent(ka.value)\n",
    "                if ku.value: \n",
    "                    clean_ku = norm_sent(ku.value)\n",
    "                    competences[competence.value] = {'CF-DS': clean_cfds, 'KA': clean_ka, 'KU': clean_ku}\n",
    "                else: \n",
    "                    competences[competence.value] = {'CF-DS': clean_cfds, 'KA': clean_ka, 'KU': []}\n",
    "            else: \n",
    "                if ku.value: \n",
    "                    clean_ku = norm_sent(ku.value)\n",
    "                    competences[competence.value] = {'CF-DS': clean_cfds, 'KA': [], 'KU': clean_ku}\n",
    "                else: \n",
    "                    competences[competence.value] = {'CF-DS': clean_cfds, 'KA': [], 'KU': []}\n",
    "    return competences\n",
    "\n",
    "\n",
    "def load_old_mapping(path):\n",
    "    wb = load_workbook(path)\n",
    "    ws = wb[wb.sheetnames[0]]\n",
    "    competences = {}\n",
    "    comp_name = ws.__getitem__(\"A\")\n",
    "    comp_cfds = ws.__getitem__(\"B\")\n",
    "    comp_ka = ws.__getitem__(\"C\")\n",
    "    comp_ku = ws.__getitem__(\"D\")\n",
    "    \n",
    "    for competence, cfds, ka, ku in zip(comp_name[2:],comp_cfds[2:], comp_ka[2:], comp_ku[2:]):\n",
    "        clean_cfds = norm_sent(str(cfds.value))\n",
    "        if competence.value in old_competences:\n",
    "            if ka.value: \n",
    "                clean_ka = norm_sent(ka.value)\n",
    "                if ku.value: \n",
    "                    clean_ku = norm_sent(ku.value)\n",
    "                    competences[competence.value] = {'CF-DS': clean_cfds, 'KA': clean_ka, 'KU': clean_ku}\n",
    "                else: \n",
    "                    competences[competence.value] = {'CF-DS': clean_cfds, 'KA': clean_ka, 'KU': []}\n",
    "            else: \n",
    "                if ku.value: \n",
    "                    clean_ku = norm_sent(ku.value)\n",
    "                    competences[competence.value] = {'CF-DS': clean_cfds, 'KA': [], 'KU': clean_ku}\n",
    "                else: \n",
    "                    competences[competence.value] = {'CF-DS': clean_cfds, 'KA': [], 'KU': []}\n",
    "    return competences\n",
    "\n",
    "new_map_old_comp = new_mapping_old_comp(MAPPING)"
   ]
  },
  {
   "cell_type": "code",
   "execution_count": 7,
   "metadata": {},
   "outputs": [],
   "source": [
    "\"\"\"\n",
    "Store all the information in different lists, create new bag-of-words\n",
    "\"\"\"\n",
    "\n",
    "old_bag = []\n",
    "old_cfds_bag = []\n",
    "\n",
    "for one in new_map_old_comp: \n",
    "    old_cfds_bag.append(new_map_old_comp[one]['CF-DS'])\n",
    "    old_bag.append(new_map_old_comp[one]['CF-DS'] + new_map_old_comp[one]['KA'] + new_map_old_comp[one]['KU'])"
   ]
  },
  {
   "cell_type": "code",
   "execution_count": 8,
   "metadata": {},
   "outputs": [],
   "source": [
    "\"\"\"\n",
    "Calculate the similarity lists, from list of CVs and vacancies \n",
    "to a list of their similarity to CFDS\n",
    "\"\"\"\n",
    "\n",
    "vac_old_sim = dict_to_sim_list(vac_dict, old_bag)\n",
    "\n",
    "vac_total_sim = dict_to_sim_list(vac_dict, old_bag)\n",
    "li_cv_total_sim = list_to_sim_list(li_cvs, old_bag)"
   ]
  }
 ],
 "metadata": {
  "kernelspec": {
   "display_name": "Python 3",
   "language": "python",
   "name": "python3"
  },
  "language_info": {
   "codemirror_mode": {
    "name": "ipython",
    "version": 3
   },
   "file_extension": ".py",
   "mimetype": "text/x-python",
   "name": "python",
   "nbconvert_exporter": "python",
   "pygments_lexer": "ipython3",
   "version": "3.6.9"
  }
 },
 "nbformat": 4,
 "nbformat_minor": 4
}
